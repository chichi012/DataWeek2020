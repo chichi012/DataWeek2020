{
 "cells": [
  {
   "cell_type": "markdown",
   "metadata": {},
   "source": [
    "## Importing libraries"
   ]
  },
  {
   "cell_type": "code",
   "execution_count": 1,
   "metadata": {},
   "outputs": [],
   "source": [
    "import pandas as pd\n",
    "import numpy as np\n",
    "import matplotlib.pyplot as plt\n",
    "import seaborn as sns\n",
    "from IPython.display import display\n",
    "\n",
    "\n",
    "import warnings\n",
    "warnings.filterwarnings(\"ignore\")\n",
    "\n",
    "# Set all options\n",
    "%matplotlib inline"
   ]
  },
  {
   "cell_type": "markdown",
   "metadata": {},
   "source": [
    "### User defined functions"
   ]
  },
  {
   "cell_type": "markdown",
   "metadata": {},
   "source": [
    "### Importing data"
   ]
  },
  {
   "cell_type": "code",
   "execution_count": 2,
   "metadata": {},
   "outputs": [],
   "source": [
    "train = pd.read_csv('Train.csv')\n",
    "test = pd.read_csv('Test.csv')\n",
    "sub = pd.read_csv('sample_submission.csv')"
   ]
  },
  {
   "cell_type": "code",
   "execution_count": 3,
   "metadata": {},
   "outputs": [],
   "source": [
    "train.set_index('user_id', inplace = True)\n",
    "test.set_index('user_id',inplace=True)"
   ]
  },
  {
   "cell_type": "code",
   "execution_count": 4,
   "metadata": {
    "scrolled": true
   },
   "outputs": [
    {
     "data": {
      "text/html": [
       "<div>\n",
       "<style scoped>\n",
       "    .dataframe tbody tr th:only-of-type {\n",
       "        vertical-align: middle;\n",
       "    }\n",
       "\n",
       "    .dataframe tbody tr th {\n",
       "        vertical-align: top;\n",
       "    }\n",
       "\n",
       "    .dataframe thead th {\n",
       "        text-align: right;\n",
       "    }\n",
       "</style>\n",
       "<table border=\"1\" class=\"dataframe\">\n",
       "  <thead>\n",
       "    <tr style=\"text-align: right;\">\n",
       "      <th></th>\n",
       "      <th>REGION</th>\n",
       "      <th>TENURE</th>\n",
       "      <th>MONTANT</th>\n",
       "      <th>FREQUENCE_RECH</th>\n",
       "      <th>REVENUE</th>\n",
       "      <th>ARPU_SEGMENT</th>\n",
       "      <th>FREQUENCE</th>\n",
       "      <th>DATA_VOLUME</th>\n",
       "      <th>ON_NET</th>\n",
       "      <th>ORANGE</th>\n",
       "      <th>TIGO</th>\n",
       "      <th>ZONE1</th>\n",
       "      <th>ZONE2</th>\n",
       "      <th>MRG</th>\n",
       "      <th>REGULARITY</th>\n",
       "      <th>TOP_PACK</th>\n",
       "      <th>FREQ_TOP_PACK</th>\n",
       "      <th>CHURN</th>\n",
       "    </tr>\n",
       "    <tr>\n",
       "      <th>user_id</th>\n",
       "      <th></th>\n",
       "      <th></th>\n",
       "      <th></th>\n",
       "      <th></th>\n",
       "      <th></th>\n",
       "      <th></th>\n",
       "      <th></th>\n",
       "      <th></th>\n",
       "      <th></th>\n",
       "      <th></th>\n",
       "      <th></th>\n",
       "      <th></th>\n",
       "      <th></th>\n",
       "      <th></th>\n",
       "      <th></th>\n",
       "      <th></th>\n",
       "      <th></th>\n",
       "      <th></th>\n",
       "    </tr>\n",
       "  </thead>\n",
       "  <tbody>\n",
       "    <tr>\n",
       "      <th>a65566c9704a76b9db04d867eb91f10d39002ffc</th>\n",
       "      <td>NaN</td>\n",
       "      <td>K &gt; 24 month</td>\n",
       "      <td>NaN</td>\n",
       "      <td>NaN</td>\n",
       "      <td>150.0</td>\n",
       "      <td>50.0</td>\n",
       "      <td>1.0</td>\n",
       "      <td>NaN</td>\n",
       "      <td>NaN</td>\n",
       "      <td>1.0</td>\n",
       "      <td>NaN</td>\n",
       "      <td>NaN</td>\n",
       "      <td>NaN</td>\n",
       "      <td>NO</td>\n",
       "      <td>1</td>\n",
       "      <td>NaN</td>\n",
       "      <td>NaN</td>\n",
       "      <td>1</td>\n",
       "    </tr>\n",
       "    <tr>\n",
       "      <th>7cedf38d026c7428ff32be01f1bf093d0397c78a</th>\n",
       "      <td>NaN</td>\n",
       "      <td>K &gt; 24 month</td>\n",
       "      <td>10000.0</td>\n",
       "      <td>11.0</td>\n",
       "      <td>9998.0</td>\n",
       "      <td>3333.0</td>\n",
       "      <td>12.0</td>\n",
       "      <td>458.0</td>\n",
       "      <td>1.0</td>\n",
       "      <td>129.0</td>\n",
       "      <td>3.0</td>\n",
       "      <td>NaN</td>\n",
       "      <td>24.0</td>\n",
       "      <td>NO</td>\n",
       "      <td>34</td>\n",
       "      <td>All-net 500F=2000F;5d</td>\n",
       "      <td>6.0</td>\n",
       "      <td>0</td>\n",
       "    </tr>\n",
       "    <tr>\n",
       "      <th>e2409b5d0f0098b49e6b62746b547244d9efef20</th>\n",
       "      <td>LOUGA</td>\n",
       "      <td>K &gt; 24 month</td>\n",
       "      <td>12900.0</td>\n",
       "      <td>40.0</td>\n",
       "      <td>12902.0</td>\n",
       "      <td>4301.0</td>\n",
       "      <td>48.0</td>\n",
       "      <td>663.0</td>\n",
       "      <td>2633.0</td>\n",
       "      <td>106.0</td>\n",
       "      <td>14.0</td>\n",
       "      <td>NaN</td>\n",
       "      <td>NaN</td>\n",
       "      <td>NO</td>\n",
       "      <td>59</td>\n",
       "      <td>On net 200F=Unlimited _call24H</td>\n",
       "      <td>37.0</td>\n",
       "      <td>0</td>\n",
       "    </tr>\n",
       "    <tr>\n",
       "      <th>d30c0a84661af6a57f8a57e9245cad117d7f8d23</th>\n",
       "      <td>LOUGA</td>\n",
       "      <td>K &gt; 24 month</td>\n",
       "      <td>5600.0</td>\n",
       "      <td>17.0</td>\n",
       "      <td>5399.0</td>\n",
       "      <td>1800.0</td>\n",
       "      <td>23.0</td>\n",
       "      <td>4.0</td>\n",
       "      <td>292.0</td>\n",
       "      <td>34.0</td>\n",
       "      <td>13.0</td>\n",
       "      <td>NaN</td>\n",
       "      <td>NaN</td>\n",
       "      <td>NO</td>\n",
       "      <td>57</td>\n",
       "      <td>On net 200F=Unlimited _call24H</td>\n",
       "      <td>11.0</td>\n",
       "      <td>0</td>\n",
       "    </tr>\n",
       "    <tr>\n",
       "      <th>503f110d16167924ed2d8d12e0eea6c01864b5b2</th>\n",
       "      <td>DAKAR</td>\n",
       "      <td>K &gt; 24 month</td>\n",
       "      <td>NaN</td>\n",
       "      <td>NaN</td>\n",
       "      <td>NaN</td>\n",
       "      <td>NaN</td>\n",
       "      <td>NaN</td>\n",
       "      <td>NaN</td>\n",
       "      <td>NaN</td>\n",
       "      <td>NaN</td>\n",
       "      <td>NaN</td>\n",
       "      <td>NaN</td>\n",
       "      <td>NaN</td>\n",
       "      <td>NO</td>\n",
       "      <td>6</td>\n",
       "      <td>NaN</td>\n",
       "      <td>NaN</td>\n",
       "      <td>0</td>\n",
       "    </tr>\n",
       "  </tbody>\n",
       "</table>\n",
       "</div>"
      ],
      "text/plain": [
       "                                         REGION        TENURE  MONTANT  \\\n",
       "user_id                                                                  \n",
       "a65566c9704a76b9db04d867eb91f10d39002ffc    NaN  K > 24 month      NaN   \n",
       "7cedf38d026c7428ff32be01f1bf093d0397c78a    NaN  K > 24 month  10000.0   \n",
       "e2409b5d0f0098b49e6b62746b547244d9efef20  LOUGA  K > 24 month  12900.0   \n",
       "d30c0a84661af6a57f8a57e9245cad117d7f8d23  LOUGA  K > 24 month   5600.0   \n",
       "503f110d16167924ed2d8d12e0eea6c01864b5b2  DAKAR  K > 24 month      NaN   \n",
       "\n",
       "                                          FREQUENCE_RECH  REVENUE  \\\n",
       "user_id                                                             \n",
       "a65566c9704a76b9db04d867eb91f10d39002ffc             NaN    150.0   \n",
       "7cedf38d026c7428ff32be01f1bf093d0397c78a            11.0   9998.0   \n",
       "e2409b5d0f0098b49e6b62746b547244d9efef20            40.0  12902.0   \n",
       "d30c0a84661af6a57f8a57e9245cad117d7f8d23            17.0   5399.0   \n",
       "503f110d16167924ed2d8d12e0eea6c01864b5b2             NaN      NaN   \n",
       "\n",
       "                                          ARPU_SEGMENT  FREQUENCE  \\\n",
       "user_id                                                             \n",
       "a65566c9704a76b9db04d867eb91f10d39002ffc          50.0        1.0   \n",
       "7cedf38d026c7428ff32be01f1bf093d0397c78a        3333.0       12.0   \n",
       "e2409b5d0f0098b49e6b62746b547244d9efef20        4301.0       48.0   \n",
       "d30c0a84661af6a57f8a57e9245cad117d7f8d23        1800.0       23.0   \n",
       "503f110d16167924ed2d8d12e0eea6c01864b5b2           NaN        NaN   \n",
       "\n",
       "                                          DATA_VOLUME  ON_NET  ORANGE  TIGO  \\\n",
       "user_id                                                                       \n",
       "a65566c9704a76b9db04d867eb91f10d39002ffc          NaN     NaN     1.0   NaN   \n",
       "7cedf38d026c7428ff32be01f1bf093d0397c78a        458.0     1.0   129.0   3.0   \n",
       "e2409b5d0f0098b49e6b62746b547244d9efef20        663.0  2633.0   106.0  14.0   \n",
       "d30c0a84661af6a57f8a57e9245cad117d7f8d23          4.0   292.0    34.0  13.0   \n",
       "503f110d16167924ed2d8d12e0eea6c01864b5b2          NaN     NaN     NaN   NaN   \n",
       "\n",
       "                                          ZONE1  ZONE2 MRG  REGULARITY  \\\n",
       "user_id                                                                  \n",
       "a65566c9704a76b9db04d867eb91f10d39002ffc    NaN    NaN  NO           1   \n",
       "7cedf38d026c7428ff32be01f1bf093d0397c78a    NaN   24.0  NO          34   \n",
       "e2409b5d0f0098b49e6b62746b547244d9efef20    NaN    NaN  NO          59   \n",
       "d30c0a84661af6a57f8a57e9245cad117d7f8d23    NaN    NaN  NO          57   \n",
       "503f110d16167924ed2d8d12e0eea6c01864b5b2    NaN    NaN  NO           6   \n",
       "\n",
       "                                                                TOP_PACK  \\\n",
       "user_id                                                                    \n",
       "a65566c9704a76b9db04d867eb91f10d39002ffc                             NaN   \n",
       "7cedf38d026c7428ff32be01f1bf093d0397c78a           All-net 500F=2000F;5d   \n",
       "e2409b5d0f0098b49e6b62746b547244d9efef20  On net 200F=Unlimited _call24H   \n",
       "d30c0a84661af6a57f8a57e9245cad117d7f8d23  On net 200F=Unlimited _call24H   \n",
       "503f110d16167924ed2d8d12e0eea6c01864b5b2                             NaN   \n",
       "\n",
       "                                          FREQ_TOP_PACK  CHURN  \n",
       "user_id                                                         \n",
       "a65566c9704a76b9db04d867eb91f10d39002ffc            NaN      1  \n",
       "7cedf38d026c7428ff32be01f1bf093d0397c78a            6.0      0  \n",
       "e2409b5d0f0098b49e6b62746b547244d9efef20           37.0      0  \n",
       "d30c0a84661af6a57f8a57e9245cad117d7f8d23           11.0      0  \n",
       "503f110d16167924ed2d8d12e0eea6c01864b5b2            NaN      0  "
      ]
     },
     "execution_count": 4,
     "metadata": {},
     "output_type": "execute_result"
    }
   ],
   "source": [
    "train.sample(5)"
   ]
  },
  {
   "cell_type": "markdown",
   "metadata": {},
   "source": [
    "### Missing Value Treatment\n",
    "\n",
    "* filling missing values in numneric features with their median (median is more resistant to outliers) \n",
    "* missing values in Categorical features will be treated as different category"
   ]
  },
  {
   "cell_type": "code",
   "execution_count": 5,
   "metadata": {},
   "outputs": [],
   "source": [
    "test['CHURN'] = 'test' #for easy separation\n",
    "\n",
    "# Combine train and test to avoid repetition\n",
    "data = pd.concat([train, test]).reset_index(drop=True)"
   ]
  },
  {
   "cell_type": "code",
   "execution_count": 6,
   "metadata": {
    "scrolled": true
   },
   "outputs": [
    {
     "data": {
      "text/plain": [
       "((500000, 18), (400000, 18), (100000, 18))"
      ]
     },
     "execution_count": 6,
     "metadata": {},
     "output_type": "execute_result"
    }
   ],
   "source": [
    "data.shape, train.shape, test.shape"
   ]
  },
  {
   "cell_type": "code",
   "execution_count": 7,
   "metadata": {},
   "outputs": [],
   "source": [
    "missing_col = data.columns[data.isna().any()]"
   ]
  },
  {
   "cell_type": "code",
   "execution_count": 8,
   "metadata": {},
   "outputs": [
    {
     "data": {
      "text/plain": [
       "Index(['REGION', 'MONTANT', 'FREQUENCE_RECH', 'REVENUE', 'ARPU_SEGMENT',\n",
       "       'FREQUENCE', 'DATA_VOLUME', 'ON_NET', 'ORANGE', 'TIGO', 'ZONE1',\n",
       "       'ZONE2', 'TOP_PACK', 'FREQ_TOP_PACK'],\n",
       "      dtype='object')"
      ]
     },
     "execution_count": 8,
     "metadata": {},
     "output_type": "execute_result"
    }
   ],
   "source": [
    "missing_col"
   ]
  },
  {
   "cell_type": "code",
   "execution_count": 9,
   "metadata": {},
   "outputs": [],
   "source": [
    "# filling NaN values in numeric features\n",
    "for col in missing_col.drop(['REGION', 'TOP_PACK']):\n",
    "    \n",
    "    data[col].fillna(data[col].median(), inplace = True)"
   ]
  },
  {
   "cell_type": "code",
   "execution_count": 10,
   "metadata": {},
   "outputs": [],
   "source": [
    "# filling NaN values in numeric features\n",
    "for col in [ 'TOP_PACK', 'REGION']:\n",
    "    \n",
    "    data[col].fillna(col+'_NAN',inplace = True)"
   ]
  },
  {
   "cell_type": "code",
   "execution_count": 11,
   "metadata": {},
   "outputs": [
    {
     "data": {
      "text/plain": [
       "REGION            0\n",
       "TENURE            0\n",
       "MONTANT           0\n",
       "FREQUENCE_RECH    0\n",
       "REVENUE           0\n",
       "ARPU_SEGMENT      0\n",
       "FREQUENCE         0\n",
       "DATA_VOLUME       0\n",
       "ON_NET            0\n",
       "ORANGE            0\n",
       "TIGO              0\n",
       "ZONE1             0\n",
       "ZONE2             0\n",
       "MRG               0\n",
       "REGULARITY        0\n",
       "TOP_PACK          0\n",
       "FREQ_TOP_PACK     0\n",
       "CHURN             0\n",
       "dtype: int64"
      ]
     },
     "execution_count": 11,
     "metadata": {},
     "output_type": "execute_result"
    }
   ],
   "source": [
    "data.isna().sum()"
   ]
  },
  {
   "cell_type": "markdown",
   "metadata": {},
   "source": [
    "### Encoding Categorical features"
   ]
  },
  {
   "cell_type": "code",
   "execution_count": 13,
   "metadata": {},
   "outputs": [],
   "source": [
    "cat_features = data.select_dtypes(exclude=np.number).columns.drop('CHURN')"
   ]
  },
  {
   "cell_type": "code",
   "execution_count": 14,
   "metadata": {},
   "outputs": [
    {
     "data": {
      "text/plain": [
       "Index(['REGION', 'TENURE', 'MRG', 'TOP_PACK'], dtype='object')"
      ]
     },
     "execution_count": 14,
     "metadata": {},
     "output_type": "execute_result"
    }
   ],
   "source": [
    "cat_features"
   ]
  },
  {
   "cell_type": "code",
   "execution_count": 15,
   "metadata": {},
   "outputs": [
    {
     "name": "stdout",
     "output_type": "stream",
     "text": [
      "REGION has 15 unique categories\n",
      "TENURE has 8 unique categories\n",
      "MRG has 1 unique categories\n",
      "TOP_PACK has 113 unique categories\n"
     ]
    }
   ],
   "source": [
    "for col in cat_features:\n",
    "    print('{} has {} unique categories'.format(col, data[col].nunique()))"
   ]
  },
  {
   "cell_type": "markdown",
   "metadata": {},
   "source": [
    "#### Frequency Encoding"
   ]
  },
  {
   "cell_type": "markdown",
   "metadata": {},
   "source": [
    "![image](image/img2.PNG)"
   ]
  },
  {
   "cell_type": "code",
   "execution_count": 12,
   "metadata": {},
   "outputs": [],
   "source": [
    "fe = data.groupby('TOP_PACK').size()/len(data)\n",
    "data.loc[: , 'TOP_PACK_FE'] = data['TOP_PACK'].map(fe)"
   ]
  },
  {
   "cell_type": "code",
   "execution_count": 16,
   "metadata": {},
   "outputs": [],
   "source": [
    "# how customers behave across different regions ."
   ]
  },
  {
   "cell_type": "markdown",
   "metadata": {},
   "source": [
    "#### Groupby features"
   ]
  },
  {
   "cell_type": "code",
   "execution_count": 22,
   "metadata": {
    "collapsed": true
   },
   "outputs": [
    {
     "ename": "NameError",
     "evalue": "name 'train_prev' is not defined",
     "output_type": "error",
     "traceback": [
      "\u001b[1;31m---------------------------------------------------------------------------\u001b[0m",
      "\u001b[1;31mNameError\u001b[0m                                 Traceback (most recent call last)",
      "\u001b[1;32m<ipython-input-22-3e6492602f6d>\u001b[0m in \u001b[0;36m<module>\u001b[1;34m\u001b[0m\n\u001b[1;32m----> 1\u001b[1;33m \u001b[0mdata\u001b[0m\u001b[1;33m[\u001b[0m\u001b[1;34m'mean_REVENUE'\u001b[0m\u001b[1;33m]\u001b[0m \u001b[1;33m=\u001b[0m \u001b[0mdata\u001b[0m\u001b[1;33m[\u001b[0m\u001b[1;34m'REGION'\u001b[0m\u001b[1;33m]\u001b[0m\u001b[1;33m.\u001b[0m\u001b[0mmap\u001b[0m\u001b[1;33m(\u001b[0m\u001b[0mtrain_prev\u001b[0m\u001b[1;33m.\u001b[0m\u001b[0mgroupby\u001b[0m\u001b[1;33m(\u001b[0m\u001b[1;34m'REGION'\u001b[0m\u001b[1;33m)\u001b[0m\u001b[1;33m.\u001b[0m\u001b[0mmean\u001b[0m\u001b[1;33m(\u001b[0m\u001b[1;33m)\u001b[0m\u001b[1;33m[\u001b[0m\u001b[1;34m'REVENUE'\u001b[0m\u001b[1;33m]\u001b[0m\u001b[1;33m)\u001b[0m\u001b[1;33m\u001b[0m\u001b[1;33m\u001b[0m\u001b[0m\n\u001b[0m\u001b[0;32m      2\u001b[0m \u001b[0mdata\u001b[0m\u001b[1;33m[\u001b[0m\u001b[1;34m'max_REVENUE'\u001b[0m\u001b[1;33m]\u001b[0m \u001b[1;33m=\u001b[0m \u001b[0mdata\u001b[0m\u001b[1;33m[\u001b[0m\u001b[1;34m'REGION'\u001b[0m\u001b[1;33m]\u001b[0m\u001b[1;33m.\u001b[0m\u001b[0mmap\u001b[0m\u001b[1;33m(\u001b[0m\u001b[0mtrain_prev\u001b[0m\u001b[1;33m.\u001b[0m\u001b[0mgroupby\u001b[0m\u001b[1;33m(\u001b[0m\u001b[1;34m'REGION'\u001b[0m\u001b[1;33m)\u001b[0m\u001b[1;33m.\u001b[0m\u001b[0mmax\u001b[0m\u001b[1;33m(\u001b[0m\u001b[1;33m)\u001b[0m\u001b[1;33m[\u001b[0m\u001b[1;34m'REVENUE'\u001b[0m\u001b[1;33m]\u001b[0m\u001b[1;33m)\u001b[0m\u001b[1;33m\u001b[0m\u001b[1;33m\u001b[0m\u001b[0m\n\u001b[0;32m      3\u001b[0m \u001b[0mdata\u001b[0m\u001b[1;33m[\u001b[0m\u001b[1;34m'min_REVENUE'\u001b[0m\u001b[1;33m]\u001b[0m \u001b[1;33m=\u001b[0m \u001b[0mdata\u001b[0m\u001b[1;33m[\u001b[0m\u001b[1;34m'REGION'\u001b[0m\u001b[1;33m]\u001b[0m\u001b[1;33m.\u001b[0m\u001b[0mmap\u001b[0m\u001b[1;33m(\u001b[0m\u001b[0mtrain_prev\u001b[0m\u001b[1;33m.\u001b[0m\u001b[0mgroupby\u001b[0m\u001b[1;33m(\u001b[0m\u001b[1;34m'REGION'\u001b[0m\u001b[1;33m)\u001b[0m\u001b[1;33m.\u001b[0m\u001b[0mmin\u001b[0m\u001b[1;33m(\u001b[0m\u001b[1;33m)\u001b[0m\u001b[1;33m[\u001b[0m\u001b[1;34m'REVENUE'\u001b[0m\u001b[1;33m]\u001b[0m\u001b[1;33m)\u001b[0m\u001b[1;33m\u001b[0m\u001b[1;33m\u001b[0m\u001b[0m\n\u001b[0;32m      4\u001b[0m \u001b[0mdata\u001b[0m\u001b[1;33m[\u001b[0m\u001b[1;34m'sum_REVENUE'\u001b[0m\u001b[1;33m]\u001b[0m \u001b[1;33m=\u001b[0m \u001b[0mdata\u001b[0m\u001b[1;33m[\u001b[0m\u001b[1;34m'REGION'\u001b[0m\u001b[1;33m]\u001b[0m\u001b[1;33m.\u001b[0m\u001b[0mmap\u001b[0m\u001b[1;33m(\u001b[0m\u001b[0mtrain_prev\u001b[0m\u001b[1;33m.\u001b[0m\u001b[0mgroupby\u001b[0m\u001b[1;33m(\u001b[0m\u001b[1;34m'REGION'\u001b[0m\u001b[1;33m)\u001b[0m\u001b[1;33m.\u001b[0m\u001b[0msum\u001b[0m\u001b[1;33m(\u001b[0m\u001b[1;33m)\u001b[0m\u001b[1;33m[\u001b[0m\u001b[1;34m'REVENUE'\u001b[0m\u001b[1;33m]\u001b[0m\u001b[1;33m)\u001b[0m\u001b[1;33m\u001b[0m\u001b[1;33m\u001b[0m\u001b[0m\n",
      "\u001b[1;31mNameError\u001b[0m: name 'train_prev' is not defined"
     ]
    }
   ],
   "source": [
    "data['mean_REVENUE'] = data['REGION'].map(data.groupby('REGION').mean()['REVENUE'])\n",
    "data['max_REVENUE'] = data['REGION'].map(data.groupby('REGION').max()['REVENUE'])\n",
    "data['min_REVENUE'] = data['REGION'].map(data.groupby('REGION').min()['REVENUE'])\n",
    "data['sum_REVENUE'] = data['REGION'].map(data.groupby('REGION').sum()['REVENUE'])"
   ]
  },
  {
   "cell_type": "code",
   "execution_count": 23,
   "metadata": {},
   "outputs": [],
   "source": [
    "data = pd.get_dummies(columns= ['REGION', 'TENURE'], data = data)"
   ]
  },
  {
   "cell_type": "code",
   "execution_count": 25,
   "metadata": {},
   "outputs": [],
   "source": [
    "# data.head()"
   ]
  },
  {
   "cell_type": "code",
   "execution_count": 26,
   "metadata": {},
   "outputs": [],
   "source": [
    "#Label encoding\n",
    "data['TOP_PACK']  = pd.factorize(data['TOP_PACK'])[0]"
   ]
  },
  {
   "cell_type": "code",
   "execution_count": 40,
   "metadata": {},
   "outputs": [],
   "source": [
    "data.drop('MRG', axis = 1, inplace = True)"
   ]
  },
  {
   "cell_type": "markdown",
   "metadata": {},
   "source": [
    "### Separating train and test"
   ]
  },
  {
   "cell_type": "code",
   "execution_count": 41,
   "metadata": {},
   "outputs": [],
   "source": [
    "# X.info()"
   ]
  },
  {
   "cell_type": "code",
   "execution_count": 42,
   "metadata": {},
   "outputs": [],
   "source": [
    "train_df = data.loc[( data['CHURN'] != 'test')].reset_index(drop = True)\n",
    "test_df = data.loc[( data['CHURN'] == 'test')].reset_index(drop = True)"
   ]
  },
  {
   "cell_type": "code",
   "execution_count": 49,
   "metadata": {
    "scrolled": true
   },
   "outputs": [
    {
     "data": {
      "text/plain": [
       "((400000, 39), (100000, 39))"
      ]
     },
     "execution_count": 49,
     "metadata": {},
     "output_type": "execute_result"
    }
   ],
   "source": [
    "train_df.shape, test_df.shape"
   ]
  },
  {
   "cell_type": "code",
   "execution_count": null,
   "metadata": {},
   "outputs": [],
   "source": []
  },
  {
   "cell_type": "markdown",
   "metadata": {},
   "source": [
    "### Modeling"
   ]
  },
  {
   "cell_type": "code",
   "execution_count": 43,
   "metadata": {},
   "outputs": [],
   "source": [
    "X = train_df.drop('CHURN', axis = 1)\n",
    "y = train_df['CHURN'].apply(int)"
   ]
  },
  {
   "cell_type": "code",
   "execution_count": 35,
   "metadata": {},
   "outputs": [],
   "source": [
    "from sklearn.model_selection import KFold,StratifiedKFold, TimeSeriesSplit"
   ]
  },
  {
   "cell_type": "code",
   "execution_count": 46,
   "metadata": {},
   "outputs": [],
   "source": [
    "from sklearn.metrics import accuracy_score"
   ]
  },
  {
   "cell_type": "markdown",
   "metadata": {},
   "source": [
    "### Out of fold cross validation"
   ]
  },
  {
   "cell_type": "code",
   "execution_count": 51,
   "metadata": {},
   "outputs": [
    {
     "name": "stdout",
     "output_type": "stream",
     "text": [
      "0:\tlearn: 0.8733800\ttest: 0.8733800\ttest1: 0.8729400\tbest: 0.8729400 (0)\ttotal: 344ms\tremaining: 17m 11s\n",
      "100:\tlearn: 0.8790150\ttest: 0.8790150\ttest1: 0.8788200\tbest: 0.8793650 (39)\ttotal: 25s\tremaining: 11m 57s\n",
      "200:\tlearn: 0.8808450\ttest: 0.8808450\ttest1: 0.8790200\tbest: 0.8793650 (39)\ttotal: 48.7s\tremaining: 11m 18s\n",
      "300:\tlearn: 0.8818600\ttest: 0.8818600\ttest1: 0.8788350\tbest: 0.8793650 (39)\ttotal: 1m 11s\tremaining: 10m 43s\n",
      "Stopped by overfitting detector  (300 iterations wait)\n",
      "\n",
      "bestTest = 0.879365\n",
      "bestIteration = 39\n",
      "\n",
      "Shrink model to first 40 iterations.\n",
      "err:  0.879365\n",
      "0:\tlearn: 0.8767450\ttest: 0.8767450\ttest1: 0.8761100\tbest: 0.8761100 (0)\ttotal: 264ms\tremaining: 13m 11s\n",
      "100:\tlearn: 0.8801800\ttest: 0.8801800\ttest1: 0.8780200\tbest: 0.8781150 (57)\ttotal: 22.9s\tremaining: 10m 57s\n",
      "200:\tlearn: 0.8814650\ttest: 0.8814650\ttest1: 0.8782550\tbest: 0.8783400 (120)\ttotal: 48.5s\tremaining: 11m 15s\n",
      "300:\tlearn: 0.8823800\ttest: 0.8823800\ttest1: 0.8782700\tbest: 0.8783400 (120)\ttotal: 1m 10s\tremaining: 10m 31s\n",
      "400:\tlearn: 0.8832900\ttest: 0.8832900\ttest1: 0.8782100\tbest: 0.8783400 (120)\ttotal: 1m 34s\tremaining: 10m 14s\n",
      "Stopped by overfitting detector  (300 iterations wait)\n",
      "\n",
      "bestTest = 0.87834\n",
      "bestIteration = 120\n",
      "\n",
      "Shrink model to first 121 iterations.\n",
      "err:  0.87834\n"
     ]
    },
    {
     "data": {
      "text/plain": [
       "0.8788525"
      ]
     },
     "execution_count": 51,
     "metadata": {},
     "output_type": "execute_result"
    }
   ],
   "source": [
    "from catboost import CatBoostClassifier\n",
    "error_list=[]\n",
    "test_pred=[]\n",
    "\n",
    "fold=StratifiedKFold(n_splits=2) #5 # 10 \n",
    "i=1\n",
    "for train_index, test_index in fold.split(X,y):\n",
    "    \n",
    "    #The usual cross validation\n",
    "    X_train, X_test = X.iloc[train_index], X.iloc[test_index]\n",
    "    y_train, y_test = y.iloc[train_index], y.iloc[test_index]\n",
    "    model  = CatBoostClassifier(n_estimators=3000,eval_metric='Accuracy',learning_rate=0.1, random_seed= 1234, use_best_model=True )\n",
    "    model.fit(X_train,y_train,eval_set=[(X_train,y_train),(X_test, y_test)], early_stopping_rounds=300,verbose=100,)#erly100\n",
    "    preds=model.predict(X_test)\n",
    "    print(\"err: \", accuracy_score(y_test,preds))\n",
    "    error_list.append(accuracy_score(y_test,preds))\n",
    "    \n",
    "    #Simultaneosly Predicting on test set for submission\n",
    "    p2 = model.predict(test_df.drop('CHURN', axis = 1))\n",
    "    test_pred.append(p2)\n",
    "    \n",
    "np.mean(error_list)"
   ]
  },
  {
   "cell_type": "code",
   "execution_count": null,
   "metadata": {},
   "outputs": [],
   "source": []
  },
  {
   "cell_type": "code",
   "execution_count": null,
   "metadata": {},
   "outputs": [],
   "source": [
    "d = {'user_id': sub['user_id'], 'CHURN': np.mean(test_pred, 0)}  #the mean of predictions from differct cv folds are used for submission\n",
    "sub = pd.DataFrame(data=d)\n",
    "sub = sub[['user_id', 'CHURN']]\n",
    "\n",
    "sub.to_csv('sec_sub.csv', index = False)"
   ]
  },
  {
   "cell_type": "markdown",
   "metadata": {},
   "source": [
    "### Baseline Model"
   ]
  },
  {
   "cell_type": "code",
   "execution_count": 38,
   "metadata": {},
   "outputs": [],
   "source": [
    "from sklearn.model_selection import train_test_split\n",
    "from sklearn.metrics import log_loss\n",
    "\n",
    "from sklearn.linear_model import LogisticRegression\n",
    "from sklearn.ensemble import RandomForestClassifier, GradientBoostingClassifier\n",
    "from sklearn.tree import DecisionTreeClassifier"
   ]
  },
  {
   "cell_type": "code",
   "execution_count": 39,
   "metadata": {},
   "outputs": [],
   "source": [
    "X_train, X_test, y_train, y_test = train_test_split(X, y, test_size=0.3,stratify = y,  random_state=42)"
   ]
  },
  {
   "cell_type": "code",
   "execution_count": 40,
   "metadata": {},
   "outputs": [],
   "source": [
    "lr = LogisticRegression()\n",
    "rf = RandomForestClassifier()\n",
    "gbm = GradientBoostingClassifier()\n",
    "decision_tree = DecisionTreeClassifier()"
   ]
  },
  {
   "cell_type": "code",
   "execution_count": 41,
   "metadata": {},
   "outputs": [
    {
     "data": {
      "text/plain": [
       "DecisionTreeClassifier(ccp_alpha=0.0, class_weight=None, criterion='gini',\n",
       "                       max_depth=None, max_features=None, max_leaf_nodes=None,\n",
       "                       min_impurity_decrease=0.0, min_impurity_split=None,\n",
       "                       min_samples_leaf=1, min_samples_split=2,\n",
       "                       min_weight_fraction_leaf=0.0, presort='deprecated',\n",
       "                       random_state=None, splitter='best')"
      ]
     },
     "execution_count": 41,
     "metadata": {},
     "output_type": "execute_result"
    }
   ],
   "source": [
    "lr.fit(X_train, y_train)\n",
    "rf.fit(X_train, y_train)\n",
    "gbm.fit(X_train, y_train)\n",
    "decision_tree.fit(X_train, y_train)"
   ]
  },
  {
   "cell_type": "code",
   "execution_count": 42,
   "metadata": {},
   "outputs": [
    {
     "name": "stdout",
     "output_type": "stream",
     "text": [
      "Logistic Regression Log loss: 0.2648513210612782\n",
      "RandomForestClassifier Log loss: 0.31406306175509136\n",
      "GradientBoostingClassifier Log loss: 0.25436846421316567\n",
      "DecisionTreeClassifier Log loss: 2.2643923401591177\n"
     ]
    }
   ],
   "source": [
    "print('Logistic Regression Log loss: {}'.format(log_loss(y_test, lr.predict_proba(X_test)[:,1])))\n",
    "print('RandomForestClassifier Log loss: {}'.format(log_loss(y_test, rf.predict_proba(X_test)[:,1])))\n",
    "print('GradientBoostingClassifier Log loss: {}'.format(log_loss(y_test, gbm.predict_proba(X_test)[:,1])))\n",
    "print('DecisionTreeClassifier Log loss: {}'.format(log_loss(y_test, decision_tree.predict_proba(X_test)[:,1])))"
   ]
  },
  {
   "cell_type": "code",
   "execution_count": null,
   "metadata": {},
   "outputs": [],
   "source": [
    "from sklearn.linear_model import LogisticRegression\n",
    "from sklearn.ensemble import StackingClassifier\n",
    "\n",
    "estimators = [\n",
    "    ('rf', RandomForestClassifier()),\n",
    "    ('dt', DecisionTreeClassifier()),\n",
    "    ('gbm', GradientBoostingClassifier)\n",
    "]\n",
    "\n",
    "\n",
    "clf = StackingClassifier(estimators=estimators, final_estimator=LogisticRegression())\n",
    "\n",
    "clf.fit(X_train, y_train).score(X_test, y_test)"
   ]
  },
  {
   "cell_type": "markdown",
   "metadata": {},
   "source": [
    "## Feature Importance plot"
   ]
  },
  {
   "cell_type": "markdown",
   "metadata": {},
   "source": [
    "#### RandomForest"
   ]
  },
  {
   "cell_type": "code",
   "execution_count": 43,
   "metadata": {},
   "outputs": [
    {
     "data": {
      "image/png": "[encoded data removed]",
      "text/plain": [
       "<Figure size 864x432 with 1 Axes>"
      ]
     },
     "metadata": {},
     "output_type": "display_data"
    }
   ],
   "source": [
    "feature_importance_df = pd.DataFrame(rf.feature_importances_, columns=['importance'])\n",
    "feature_importance_df['feature'] = X.columns\n",
    "\n",
    "plt.figure(figsize=(12, 6));\n",
    "sns.barplot(x=\"importance\", y=\"feature\", data=feature_importance_df.sort_values(by = ['importance'], ascending = False).head(20))\n",
    "plt.title('RandomForestClassifier features importance:');"
   ]
  },
  {
   "cell_type": "markdown",
   "metadata": {},
   "source": [
    "#### GradientBoostingClassifier"
   ]
  },
  {
   "cell_type": "code",
   "execution_count": 44,
   "metadata": {},
   "outputs": [],
   "source": [
    "# feature_importance_df = pd.DataFrame(rf.feature_importances_, columns=['importance'])\n",
    "# feature_importance_df['feature'] = X.columns\n",
    "\n",
    "# plt.figure(figsize=(12, 6));\n",
    "# sns.barplot(x=\"importance\", y=\"feature\", data=feature_importance_df.sort_values(by = ['importance'], ascending = False).head(20))\n",
    "# plt.title('RandomForestClassifier features importance:');"
   ]
  },
  {
   "cell_type": "markdown",
   "metadata": {},
   "source": [
    "### Predicting on the test set and Making Submission on zindi."
   ]
  },
  {
   "cell_type": "code",
   "execution_count": 45,
   "metadata": {},
   "outputs": [],
   "source": [
    "test_x = test_df.drop('CHURN', axis = 1)"
   ]
  },
  {
   "cell_type": "code",
   "execution_count": 46,
   "metadata": {},
   "outputs": [],
   "source": [
    "prediction = gbm.predict_proba(test_x)[:, 1]"
   ]
  },
  {
   "cell_type": "code",
   "execution_count": null,
   "metadata": {},
   "outputs": [],
   "source": []
  },
  {
   "cell_type": "code",
   "execution_count": 128,
   "metadata": {},
   "outputs": [],
   "source": [
    "sub['CHURN'] = prediction\n",
    "sub.to_csv('submission.csv', index =False)"
   ]
  },
  {
   "cell_type": "code",
   "execution_count": null,
   "metadata": {},
   "outputs": [],
   "source": []
  }
 ],
 "metadata": {
  "kernelspec": {
   "display_name": "Python 3",
   "language": "python",
   "name": "python3"
  },
  "language_info": {
   "codemirror_mode": {
    "name": "ipython",
    "version": 3
   },
   "file_extension": ".py",
   "mimetype": "text/x-python",
   "name": "python",
   "nbconvert_exporter": "python",
   "pygments_lexer": "ipython3",
   "version": "3.7.6"
  }
 },
 "nbformat": 4,
 "nbformat_minor": 4
}
